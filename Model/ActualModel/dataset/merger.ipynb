{
 "cells": [
  {
   "cell_type": "code",
   "execution_count": 1,
   "metadata": {},
   "outputs": [],
   "source": [
    "import pandas as pd\n",
    "\n",
    "# Assuming your CSV files have the names you mentioned\n",
    "data_merged = pd.DataFrame()  # Empty DataFrame to store merged data\n",
    "\n",
    "for filename in [\"age.csv\", \"ethnicity.csv\", \"gender.csv\", \"other.csv\", \"notcb.csv\", \"religion.csv\"]:\n",
    "    data_part = pd.read_csv(filename)\n",
    "    data_part = data_part.head(4000)  # Select the first 4000 entries\n",
    "    data_merged = pd.concat([data_merged, data_part], ignore_index=True)  # Concatenate\n",
    "\n",
    "# Save the merged DataFrame\n",
    "data_merged.to_csv(\"merged_data_4000.csv\", index=False)"
   ]
  }
 ],
 "metadata": {
  "kernelspec": {
   "display_name": "Python 3",
   "language": "python",
   "name": "python3"
  },
  "language_info": {
   "codemirror_mode": {
    "name": "ipython",
    "version": 3
   },
   "file_extension": ".py",
   "mimetype": "text/x-python",
   "name": "python",
   "nbconvert_exporter": "python",
   "pygments_lexer": "ipython3",
   "version": "3.12.1"
  }
 },
 "nbformat": 4,
 "nbformat_minor": 2
}
